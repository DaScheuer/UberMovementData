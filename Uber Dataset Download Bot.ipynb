{
 "cells": [
  {
   "cell_type": "code",
   "execution_count": 1,
   "metadata": {},
   "outputs": [],
   "source": [
    "from selenium import webdriver\n",
    "from selenium.webdriver.common.keys import Keys\n",
    "from selenium.webdriver.common.by import By\n",
    "from selenium.webdriver.support.ui import WebDriverWait\n",
    "from selenium.webdriver.support import expected_conditions as EC\n",
    "import time"
   ]
  },
  {
   "cell_type": "code",
   "execution_count": 77,
   "metadata": {},
   "outputs": [],
   "source": [
    "# Load Chrome driver and movement.uber.com/cities website\n",
    "PATH = 'C:\\Program Files (x86)\\chromedriver.exe'\n",
    "driver = webdriver.Chrome(PATH)\n",
    "driver.get('https://movement.uber.com/?lang=en-US')"
   ]
  },
  {
   "cell_type": "code",
   "execution_count": 80,
   "metadata": {},
   "outputs": [],
   "source": [
    "# MAIN (ATTACH CALENDAR LOOP TO THIS)-------------------------------------------------------------------------------------- \n",
    "\n",
    "# Note: could make a list with all desred cities and for city in list, start with search and go back to main page\n",
    "\n",
    "# Insert city and select travel times\n",
    "search = driver.find_element_by_xpath('/html/body/div[1]/div[1]/div[2]/div[4]/div[2]/div[1]/div/input')\n",
    "search.send_keys('Atlanta') # The string inside the .sendkeys function can be set to the desired city and the code below works\n",
    "\n",
    "time.sleep(1)\n",
    "city = driver.find_element_by_xpath('/html/body/div[1]/div[1]/div[2]/div[2]/div/div/div[2]')\n",
    "city.click()\n",
    "\n",
    "time.sleep(1)\n",
    "city_travel_times_link = driver.find_element_by_xpath('//a[@class=\"b9 f8 gh c3 qr cg qs qt qu qv qw qx\"]') #/html/body/div[1]/div[1]/div[2]/div[2]/div/div[1]/a/div[2]/div[1]')))\n",
    "city_travel_times_link.click()\n",
    "        \n",
    "try: # Skip button only shows up the first time you open the Chrome browser\n",
    "    time.sleep(6)\n",
    "    skip_button = driver.find_element_by_xpath('/html/body/div[1]/div[2]/div/div/div[3]/div/div[2]/div/div[2]/div/div[1]/button')\n",
    "    skip_button.click()\n",
    "        \n",
    "except:\n",
    "    pass\n",
    "\n",
    "                                    \n",
    "# Choosing correct data parameters (Traffix Analysis Zone) and opening date bar in preparation for the calendar loop\n",
    "try: # Zone type dropdown only shows up the first time you open the Chrome browser\n",
    "    zone_type_dropdown = WebDriverWait(driver, 10).until(\n",
    "        EC.presence_of_element_located((By.XPATH, '/html/body/div[1]/div[1]/div[1]/div[3]/div/div[2]/div/div/div/div/div[1]/div[2]/div')))\n",
    "    zone_type_dropdown.click()\n",
    "\n",
    "    traffic_analysis_zones = WebDriverWait(driver, 10).until(\n",
    "        EC.presence_of_element_located((By.XPATH, '/html/body/div[1]/div[2]/div/div/div/div/div/ul/li[2]')))\n",
    "    traffic_analysis_zones.click()\n",
    "        \n",
    "except:\n",
    "    pass\n",
    "\n",
    "time.sleep(3)\n",
    "date_selector_bar = driver.find_element_by_xpath('/html/body/div[1]/div[1]/div[1]/div[3]/div/div[2]/div/div/div/div/div[2]/div[2]/div/div/div[1]')\n",
    "date_selector_bar.click()\n",
    "\n",
    "time.sleep(2)\n",
    "change_date_bar = driver.find_element_by_xpath('/html/body/div[1]/div[1]/div[1]/div[2]/div[3]/div[1]/div[1]/div/div/div/div/input')\n",
    "change_date_bar.click()\n",
    "\n",
    "# Calendar loop (should be indented correctly into previous code block)\n",
    "arrow_left_month = driver.find_element_by_xpath('/html/body/div[1]/div[2]/div/div/div/div/div/div/div[1]/div[1]/button[1]')\n",
    "for i in range(50): # 50 because default starting position in the calendar is March 2020. With 50 we go to January 16.\n",
    "    arrow_left_month.click()\n",
    "    \n",
    "# (Temporary) Go back to main page\n",
    "# driver.back()"
   ]
  },
  {
   "cell_type": "code",
   "execution_count": 98,
   "metadata": {},
   "outputs": [
    {
     "name": "stdout",
     "output_type": "stream",
     "text": [
      "January 2016\n",
      "February 2016\n"
     ]
    }
   ],
   "source": [
    "# Day loop\n",
    "jan_table = driver.find_element_by_xpath('/html/body/div[1]/div[2]/div/div/div/div/div/div/div[1]/div[3]/div')\n",
    "days = jan_table.find_elements_by_xpath('//div[contains(text(), \"2016\")]')\n",
    "for day in days:\n",
    "    print(day.text)"
   ]
  },
  {
   "cell_type": "code",
   "execution_count": null,
   "metadata": {},
   "outputs": [],
   "source": [
    "# Old city loop\n",
    "# # cities_table = driver.find_element_by_xpath('/html/body/div[1]/div[1]/div[1]/div[2]/div[1]/div')\n",
    "# # cities = cities_table.find_elements_by_tag_name('div')\n",
    "# # for city in cities:\n",
    "# #     city = city.find_element_by_tag_name('a') # Buttons have tags \"a\"\n",
    "# #     city.click()"
   ]
  }
 ],
 "metadata": {
  "kernelspec": {
   "display_name": "Python 3",
   "language": "python",
   "name": "python3"
  },
  "language_info": {
   "codemirror_mode": {
    "name": "ipython",
    "version": 3
   },
   "file_extension": ".py",
   "mimetype": "text/x-python",
   "name": "python",
   "nbconvert_exporter": "python",
   "pygments_lexer": "ipython3",
   "version": "3.7.1"
  }
 },
 "nbformat": 4,
 "nbformat_minor": 2
}
