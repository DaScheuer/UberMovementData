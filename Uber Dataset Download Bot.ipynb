{
 "cells": [
  {
   "cell_type": "markdown",
   "metadata": {},
   "source": [
    "Import necessary libraries."
   ]
  },
  {
   "cell_type": "code",
   "execution_count": 1,
   "metadata": {},
   "outputs": [],
   "source": [
    "from selenium import webdriver\n",
    "from selenium.webdriver.common.keys import Keys\n",
    "from selenium.webdriver.common.by import By\n",
    "from selenium.webdriver.support.ui import WebDriverWait\n",
    "from selenium.webdriver.support import expected_conditions as EC\n",
    "from webdriver_manager.chrome import ChromeDriverManager\n",
    "from datetime import datetime, timedelta\n",
    "import time"
   ]
  },
  {
   "cell_type": "markdown",
   "metadata": {},
   "source": [
    "Open a Chrome window with the initial URL containing the name of the city, origin code, zone type and first date for which you want to download a dataset."
   ]
  },
  {
   "cell_type": "code",
   "execution_count": 2,
   "metadata": {},
   "outputs": [
    {
     "name": "stderr",
     "output_type": "stream",
     "text": [
      "[WDM] - Current google-chrome version is 86.0.4240\n",
      "[WDM] - Get LATEST driver version for 86.0.4240\n"
     ]
    },
    {
     "name": "stdout",
     "output_type": "stream",
     "text": [
      " \n"
     ]
    },
    {
     "name": "stderr",
     "output_type": "stream",
     "text": [
      "[WDM] - Get LATEST driver version for 86.0.4240\n",
      "[WDM] - Trying to download new driver from http://chromedriver.storage.googleapis.com/86.0.4240.22/chromedriver_win32.zip\n",
      "[WDM] - Driver has been saved in cache [C:\\Users\\I539797\\.wdm\\drivers\\chromedriver\\win32\\86.0.4240.22]\n"
     ]
    }
   ],
   "source": [
    "# Load Chrome driver and movement.uber.com/cities website\n",
    "# PATH = 'C:\\Program Files (x86)\\chromedriver.exe'\n",
    "driver = webdriver.Chrome(ChromeDriverManager().install())\n",
    "\n",
    "# Attributing the city name and the center-most zone code (or origin) to variables so they can be inserted in the URL later\n",
    "city = 'losangeles'\n",
    "origin_code = '1536'\n",
    "coordinates = '&lat.=34.1214241&lng.=-118.2276004&z.=8.62'\n",
    "zone_type = 'taz' # or 'taz' or 'hex' or others\n",
    "\n",
    "# Open URL for the first day in the desired city (change coordinates depending on the city)\n",
    "driver.get('https://movement.uber.com/explore/' + city + '/travel-times/query?si' + origin_code + '&ti=&ag=' + zone_type + '&dt[tpb]=ALL_DAY&dt[wd;]=1,2,3,4,5,6,7&dt[dr][sd]=' + \n",
    "           '2016-01-02' + '&dt[dr][ed]=' + '2016-01-02' + '&cd=&sa;=&sdn=' + coordinates + '&lang=en-US')"
   ]
  },
  {
   "cell_type": "code",
   "execution_count": 4,
   "metadata": {},
   "outputs": [],
   "source": [
    "driver.get('https://movement.uber.com/explore/' + city + '/travel-times/query?si' + origin_code + '&ti=&ag=' + zone_type + '&dt[tpb]=ALL_DAY&dt[wd;]=1,2,3,4,5,6,7&dt[dr][sd]=' + \n",
    "           '2016-01-02' + '&dt[dr][ed]=' + '2016-01-02' + '&cd=&sa;=&sdn=' + coordinates + '&lang=en-US')"
   ]
  },
  {
   "cell_type": "markdown",
   "metadata": {},
   "source": [
    "Define functions for clicking on the privacy settings \"opt-in\" button, skipping the initial guide pop-up window, filling personal info on a form that appears only the first time you try to donwload a dataset on that window, and clicking on the donwload dataset button."
   ]
  },
  {
   "cell_type": "code",
   "execution_count": 3,
   "metadata": {
    "scrolled": true
   },
   "outputs": [],
   "source": [
    "# Defining the necessary functions for the first page\n",
    "def choosePrivacy():\n",
    "    \"\"\"\n",
    "    Function that clicks on the opt out button of some privacy settings.\n",
    "    \"\"\"\n",
    "    try:\n",
    "        priv_pref_button = driver.find_element_by_id('privacy_pref_optin')\n",
    "        priv_pref_button.click()\n",
    "        \n",
    "    except:\n",
    "        pass\n",
    "\n",
    "    \n",
    "def pressSkip():\n",
    "    \"\"\"\n",
    "    Function that presses skip on the \"Understanding origins\" pop-up window.\n",
    "    \"\"\"\n",
    "    try:\n",
    "        time.sleep(5)\n",
    "        skip_button = driver.find_element_by_css_selector('div.af.bk')\n",
    "        skip_button.click()\n",
    "            \n",
    "    except:\n",
    "        pass\n",
    "\n",
    "\n",
    "def fillPersonalInfo():\n",
    "    \"\"\"\"\n",
    "    Function that fills in the personal information before finally downloading the csv file.\n",
    "    \"\"\"\n",
    "    name = ''\n",
    "    last_name = ''\n",
    "    email = ''\n",
    "        \n",
    "    first_name = driver.find_element_by_id('firstName')\n",
    "    first_name.send_keys('Luiz')\n",
    "\n",
    "    last_name = driver.find_element_by_id('lastName')\n",
    "    last_name.send_keys('Scheuer')\n",
    "                                       \n",
    "    email = driver.find_element_by_id('email')\n",
    "    email.send_keys('luizgscheuer@gmali.com')\n",
    "\n",
    "    purpose_dropdown = driver.find_element_by_xpath('/html/body/div[1]/div[2]/div[2]/div/div[3]/div/div[2]/div/div/div/form/div[3]/div/div/div/div[1]')\n",
    "    purpose_dropdown.click()\n",
    "\n",
    "    purpose = driver.find_element_by_xpath('/html/body/div[1]/div[2]/div[3]/div/div/div/div/ul/li[6]')\n",
    "    purpose.click()\n",
    "\n",
    "    opt_out_newsletter = driver.find_element_by_xpath('/html/body/div[1]/div[2]/div[2]/div/div[3]/div/div[2]/div/div/div/form/div[5]/div/div/label[2]/div[2]')\n",
    "    opt_out_newsletter.click()\n",
    "    \n",
    "\n",
    "# Start actions\n",
    "# Agree to privacy preferences\n",
    "choosePrivacy()\n",
    "        \n",
    "    \n",
    "# Skip button only shows up the first time you open the Chrome browser\n",
    "pressSkip()\n",
    "\n",
    "time.sleep(1.5)\n",
    "# Choosing correct data parameters (Traffic Analysis Zone) and opening date bar in preparation for the calendar loop\n",
    "# Click on the zone type dropdown list\n",
    "# zone_type_dropdown = WebDriverWait(driver, 8).until(\n",
    "#     EC.presence_of_element_located((By.XPATH, '/html/body/div[1]/div[1]/div[1]/div[3]/div/div[2]/div/div/div/div/div[1]/div[2]/div')))\n",
    "# zone_type_dropdown.click()\n",
    "\n",
    "\n",
    "# Choose desired zoning type (different from city to city)\n",
    "# zoning_type = WebDriverWait(driver, 10).until(\n",
    "#     EC.presence_of_element_located((By.XPATH, '/html/body/div[1]/div[2]/div/div/div/div/div/ul/li[2]')))\n",
    "# zoning_type.click()\n",
    "        \n",
    "\n",
    "# Click on \"Download data\"\n",
    "download_button = driver.find_element_by_css_selector('div.f5 button')\n",
    "download_button.click()\n",
    "\n",
    "\n",
    "# Click on the correct csv file\n",
    "travel_times_download = driver.find_element_by_xpath('/html/body/div[1]/div[2]/div/div/div[3]/div/div[2]/div/div[1]/div/button[1]')\n",
    "travel_times_download.click()\n",
    "time.sleep(1)\n",
    "\n",
    "fillPersonalInfo()\n",
    "\n",
    "# Download csv file\n",
    "download_button2 = driver.find_element_by_xpath('//button[contains(@type, \"submit\")]')\n",
    "download_button2.click()\n",
    "time.sleep(2)\n"
   ]
  },
  {
   "cell_type": "markdown",
   "metadata": {},
   "source": [
    "This is the main block of code of this dpnwload bot. The getURL function generates a new URL with the desired date (and jumps to next next date) while the second part focuses on executing the URL and going through an iterator, to let Python know that after we are donw with downloading the dataset for this page, we are ready to jump to the next one.\n",
    "\n",
    "Also, print the number of generated URLs to see if all desired URLs (or dates) are included."
   ]
  },
  {
   "cell_type": "code",
   "execution_count": 6,
   "metadata": {
    "scrolled": true
   },
   "outputs": [
    {
     "name": "stdout",
     "output_type": "stream",
     "text": [
      "Number of generated URLs: 69\n",
      "https://movement.uber.com/explore/santiago/travel-times/query?si=164&ti=&ag=hexclusters&dt[tpb]=ALL_DAY&dt[wd;]=1,2,3,4,5,6,7&dt[dr][sd]=2020-01-23&dt[dr][ed]=2020-01-23&cd=&sa;=&sdn=&lat.=-33.4688961&lng.=-70.6882113&z.=10.55&lang=en-US\n",
      "https://movement.uber.com/explore/santiago/travel-times/query?si=164&ti=&ag=hexclusters&dt[tpb]=ALL_DAY&dt[wd;]=1,2,3,4,5,6,7&dt[dr][sd]=2020-01-24&dt[dr][ed]=2020-01-24&cd=&sa;=&sdn=&lat.=-33.4688961&lng.=-70.6882113&z.=10.55&lang=en-US\n",
      "https://movement.uber.com/explore/santiago/travel-times/query?si=164&ti=&ag=hexclusters&dt[tpb]=ALL_DAY&dt[wd;]=1,2,3,4,5,6,7&dt[dr][sd]=2020-01-25&dt[dr][ed]=2020-01-25&cd=&sa;=&sdn=&lat.=-33.4688961&lng.=-70.6882113&z.=10.55&lang=en-US\n",
      "https://movement.uber.com/explore/santiago/travel-times/query?si=164&ti=&ag=hexclusters&dt[tpb]=ALL_DAY&dt[wd;]=1,2,3,4,5,6,7&dt[dr][sd]=2020-01-26&dt[dr][ed]=2020-01-26&cd=&sa;=&sdn=&lat.=-33.4688961&lng.=-70.6882113&z.=10.55&lang=en-US\n",
      "https://movement.uber.com/explore/santiago/travel-times/query?si=164&ti=&ag=hexclusters&dt[tpb]=ALL_DAY&dt[wd;]=1,2,3,4,5,6,7&dt[dr][sd]=2020-01-27&dt[dr][ed]=2020-01-27&cd=&sa;=&sdn=&lat.=-33.4688961&lng.=-70.6882113&z.=10.55&lang=en-US\n",
      "https://movement.uber.com/explore/santiago/travel-times/query?si=164&ti=&ag=hexclusters&dt[tpb]=ALL_DAY&dt[wd;]=1,2,3,4,5,6,7&dt[dr][sd]=2020-01-28&dt[dr][ed]=2020-01-28&cd=&sa;=&sdn=&lat.=-33.4688961&lng.=-70.6882113&z.=10.55&lang=en-US\n",
      "https://movement.uber.com/explore/santiago/travel-times/query?si=164&ti=&ag=hexclusters&dt[tpb]=ALL_DAY&dt[wd;]=1,2,3,4,5,6,7&dt[dr][sd]=2020-01-29&dt[dr][ed]=2020-01-29&cd=&sa;=&sdn=&lat.=-33.4688961&lng.=-70.6882113&z.=10.55&lang=en-US\n",
      "https://movement.uber.com/explore/santiago/travel-times/query?si=164&ti=&ag=hexclusters&dt[tpb]=ALL_DAY&dt[wd;]=1,2,3,4,5,6,7&dt[dr][sd]=2020-01-30&dt[dr][ed]=2020-01-30&cd=&sa;=&sdn=&lat.=-33.4688961&lng.=-70.6882113&z.=10.55&lang=en-US\n",
      "https://movement.uber.com/explore/santiago/travel-times/query?si=164&ti=&ag=hexclusters&dt[tpb]=ALL_DAY&dt[wd;]=1,2,3,4,5,6,7&dt[dr][sd]=2020-01-31&dt[dr][ed]=2020-01-31&cd=&sa;=&sdn=&lat.=-33.4688961&lng.=-70.6882113&z.=10.55&lang=en-US\n",
      "https://movement.uber.com/explore/santiago/travel-times/query?si=164&ti=&ag=hexclusters&dt[tpb]=ALL_DAY&dt[wd;]=1,2,3,4,5,6,7&dt[dr][sd]=2020-02-01&dt[dr][ed]=2020-02-01&cd=&sa;=&sdn=&lat.=-33.4688961&lng.=-70.6882113&z.=10.55&lang=en-US\n",
      "https://movement.uber.com/explore/santiago/travel-times/query?si=164&ti=&ag=hexclusters&dt[tpb]=ALL_DAY&dt[wd;]=1,2,3,4,5,6,7&dt[dr][sd]=2020-02-02&dt[dr][ed]=2020-02-02&cd=&sa;=&sdn=&lat.=-33.4688961&lng.=-70.6882113&z.=10.55&lang=en-US\n",
      "https://movement.uber.com/explore/santiago/travel-times/query?si=164&ti=&ag=hexclusters&dt[tpb]=ALL_DAY&dt[wd;]=1,2,3,4,5,6,7&dt[dr][sd]=2020-02-03&dt[dr][ed]=2020-02-03&cd=&sa;=&sdn=&lat.=-33.4688961&lng.=-70.6882113&z.=10.55&lang=en-US\n",
      "https://movement.uber.com/explore/santiago/travel-times/query?si=164&ti=&ag=hexclusters&dt[tpb]=ALL_DAY&dt[wd;]=1,2,3,4,5,6,7&dt[dr][sd]=2020-02-04&dt[dr][ed]=2020-02-04&cd=&sa;=&sdn=&lat.=-33.4688961&lng.=-70.6882113&z.=10.55&lang=en-US\n",
      "https://movement.uber.com/explore/santiago/travel-times/query?si=164&ti=&ag=hexclusters&dt[tpb]=ALL_DAY&dt[wd;]=1,2,3,4,5,6,7&dt[dr][sd]=2020-02-05&dt[dr][ed]=2020-02-05&cd=&sa;=&sdn=&lat.=-33.4688961&lng.=-70.6882113&z.=10.55&lang=en-US\n",
      "https://movement.uber.com/explore/santiago/travel-times/query?si=164&ti=&ag=hexclusters&dt[tpb]=ALL_DAY&dt[wd;]=1,2,3,4,5,6,7&dt[dr][sd]=2020-02-06&dt[dr][ed]=2020-02-06&cd=&sa;=&sdn=&lat.=-33.4688961&lng.=-70.6882113&z.=10.55&lang=en-US\n",
      "https://movement.uber.com/explore/santiago/travel-times/query?si=164&ti=&ag=hexclusters&dt[tpb]=ALL_DAY&dt[wd;]=1,2,3,4,5,6,7&dt[dr][sd]=2020-02-07&dt[dr][ed]=2020-02-07&cd=&sa;=&sdn=&lat.=-33.4688961&lng.=-70.6882113&z.=10.55&lang=en-US\n",
      "https://movement.uber.com/explore/santiago/travel-times/query?si=164&ti=&ag=hexclusters&dt[tpb]=ALL_DAY&dt[wd;]=1,2,3,4,5,6,7&dt[dr][sd]=2020-02-08&dt[dr][ed]=2020-02-08&cd=&sa;=&sdn=&lat.=-33.4688961&lng.=-70.6882113&z.=10.55&lang=en-US\n",
      "https://movement.uber.com/explore/santiago/travel-times/query?si=164&ti=&ag=hexclusters&dt[tpb]=ALL_DAY&dt[wd;]=1,2,3,4,5,6,7&dt[dr][sd]=2020-02-09&dt[dr][ed]=2020-02-09&cd=&sa;=&sdn=&lat.=-33.4688961&lng.=-70.6882113&z.=10.55&lang=en-US\n",
      "https://movement.uber.com/explore/santiago/travel-times/query?si=164&ti=&ag=hexclusters&dt[tpb]=ALL_DAY&dt[wd;]=1,2,3,4,5,6,7&dt[dr][sd]=2020-02-10&dt[dr][ed]=2020-02-10&cd=&sa;=&sdn=&lat.=-33.4688961&lng.=-70.6882113&z.=10.55&lang=en-US\n",
      "https://movement.uber.com/explore/santiago/travel-times/query?si=164&ti=&ag=hexclusters&dt[tpb]=ALL_DAY&dt[wd;]=1,2,3,4,5,6,7&dt[dr][sd]=2020-02-11&dt[dr][ed]=2020-02-11&cd=&sa;=&sdn=&lat.=-33.4688961&lng.=-70.6882113&z.=10.55&lang=en-US\n",
      "https://movement.uber.com/explore/santiago/travel-times/query?si=164&ti=&ag=hexclusters&dt[tpb]=ALL_DAY&dt[wd;]=1,2,3,4,5,6,7&dt[dr][sd]=2020-02-12&dt[dr][ed]=2020-02-12&cd=&sa;=&sdn=&lat.=-33.4688961&lng.=-70.6882113&z.=10.55&lang=en-US\n",
      "https://movement.uber.com/explore/santiago/travel-times/query?si=164&ti=&ag=hexclusters&dt[tpb]=ALL_DAY&dt[wd;]=1,2,3,4,5,6,7&dt[dr][sd]=2020-02-13&dt[dr][ed]=2020-02-13&cd=&sa;=&sdn=&lat.=-33.4688961&lng.=-70.6882113&z.=10.55&lang=en-US\n",
      "https://movement.uber.com/explore/santiago/travel-times/query?si=164&ti=&ag=hexclusters&dt[tpb]=ALL_DAY&dt[wd;]=1,2,3,4,5,6,7&dt[dr][sd]=2020-02-14&dt[dr][ed]=2020-02-14&cd=&sa;=&sdn=&lat.=-33.4688961&lng.=-70.6882113&z.=10.55&lang=en-US\n",
      "https://movement.uber.com/explore/santiago/travel-times/query?si=164&ti=&ag=hexclusters&dt[tpb]=ALL_DAY&dt[wd;]=1,2,3,4,5,6,7&dt[dr][sd]=2020-02-15&dt[dr][ed]=2020-02-15&cd=&sa;=&sdn=&lat.=-33.4688961&lng.=-70.6882113&z.=10.55&lang=en-US\n",
      "https://movement.uber.com/explore/santiago/travel-times/query?si=164&ti=&ag=hexclusters&dt[tpb]=ALL_DAY&dt[wd;]=1,2,3,4,5,6,7&dt[dr][sd]=2020-02-16&dt[dr][ed]=2020-02-16&cd=&sa;=&sdn=&lat.=-33.4688961&lng.=-70.6882113&z.=10.55&lang=en-US\n",
      "https://movement.uber.com/explore/santiago/travel-times/query?si=164&ti=&ag=hexclusters&dt[tpb]=ALL_DAY&dt[wd;]=1,2,3,4,5,6,7&dt[dr][sd]=2020-02-17&dt[dr][ed]=2020-02-17&cd=&sa;=&sdn=&lat.=-33.4688961&lng.=-70.6882113&z.=10.55&lang=en-US\n",
      "https://movement.uber.com/explore/santiago/travel-times/query?si=164&ti=&ag=hexclusters&dt[tpb]=ALL_DAY&dt[wd;]=1,2,3,4,5,6,7&dt[dr][sd]=2020-02-18&dt[dr][ed]=2020-02-18&cd=&sa;=&sdn=&lat.=-33.4688961&lng.=-70.6882113&z.=10.55&lang=en-US\n",
      "https://movement.uber.com/explore/santiago/travel-times/query?si=164&ti=&ag=hexclusters&dt[tpb]=ALL_DAY&dt[wd;]=1,2,3,4,5,6,7&dt[dr][sd]=2020-02-19&dt[dr][ed]=2020-02-19&cd=&sa;=&sdn=&lat.=-33.4688961&lng.=-70.6882113&z.=10.55&lang=en-US\n",
      "https://movement.uber.com/explore/santiago/travel-times/query?si=164&ti=&ag=hexclusters&dt[tpb]=ALL_DAY&dt[wd;]=1,2,3,4,5,6,7&dt[dr][sd]=2020-02-20&dt[dr][ed]=2020-02-20&cd=&sa;=&sdn=&lat.=-33.4688961&lng.=-70.6882113&z.=10.55&lang=en-US\n",
      "https://movement.uber.com/explore/santiago/travel-times/query?si=164&ti=&ag=hexclusters&dt[tpb]=ALL_DAY&dt[wd;]=1,2,3,4,5,6,7&dt[dr][sd]=2020-02-21&dt[dr][ed]=2020-02-21&cd=&sa;=&sdn=&lat.=-33.4688961&lng.=-70.6882113&z.=10.55&lang=en-US\n",
      "https://movement.uber.com/explore/santiago/travel-times/query?si=164&ti=&ag=hexclusters&dt[tpb]=ALL_DAY&dt[wd;]=1,2,3,4,5,6,7&dt[dr][sd]=2020-02-22&dt[dr][ed]=2020-02-22&cd=&sa;=&sdn=&lat.=-33.4688961&lng.=-70.6882113&z.=10.55&lang=en-US\n",
      "https://movement.uber.com/explore/santiago/travel-times/query?si=164&ti=&ag=hexclusters&dt[tpb]=ALL_DAY&dt[wd;]=1,2,3,4,5,6,7&dt[dr][sd]=2020-02-23&dt[dr][ed]=2020-02-23&cd=&sa;=&sdn=&lat.=-33.4688961&lng.=-70.6882113&z.=10.55&lang=en-US\n",
      "https://movement.uber.com/explore/santiago/travel-times/query?si=164&ti=&ag=hexclusters&dt[tpb]=ALL_DAY&dt[wd;]=1,2,3,4,5,6,7&dt[dr][sd]=2020-02-24&dt[dr][ed]=2020-02-24&cd=&sa;=&sdn=&lat.=-33.4688961&lng.=-70.6882113&z.=10.55&lang=en-US\n",
      "https://movement.uber.com/explore/santiago/travel-times/query?si=164&ti=&ag=hexclusters&dt[tpb]=ALL_DAY&dt[wd;]=1,2,3,4,5,6,7&dt[dr][sd]=2020-02-25&dt[dr][ed]=2020-02-25&cd=&sa;=&sdn=&lat.=-33.4688961&lng.=-70.6882113&z.=10.55&lang=en-US\n",
      "https://movement.uber.com/explore/santiago/travel-times/query?si=164&ti=&ag=hexclusters&dt[tpb]=ALL_DAY&dt[wd;]=1,2,3,4,5,6,7&dt[dr][sd]=2020-02-26&dt[dr][ed]=2020-02-26&cd=&sa;=&sdn=&lat.=-33.4688961&lng.=-70.6882113&z.=10.55&lang=en-US\n"
     ]
    },
    {
     "name": "stdout",
     "output_type": "stream",
     "text": [
      "https://movement.uber.com/explore/santiago/travel-times/query?si=164&ti=&ag=hexclusters&dt[tpb]=ALL_DAY&dt[wd;]=1,2,3,4,5,6,7&dt[dr][sd]=2020-02-27&dt[dr][ed]=2020-02-27&cd=&sa;=&sdn=&lat.=-33.4688961&lng.=-70.6882113&z.=10.55&lang=en-US\n",
      "https://movement.uber.com/explore/santiago/travel-times/query?si=164&ti=&ag=hexclusters&dt[tpb]=ALL_DAY&dt[wd;]=1,2,3,4,5,6,7&dt[dr][sd]=2020-02-28&dt[dr][ed]=2020-02-28&cd=&sa;=&sdn=&lat.=-33.4688961&lng.=-70.6882113&z.=10.55&lang=en-US\n",
      "https://movement.uber.com/explore/santiago/travel-times/query?si=164&ti=&ag=hexclusters&dt[tpb]=ALL_DAY&dt[wd;]=1,2,3,4,5,6,7&dt[dr][sd]=2020-02-29&dt[dr][ed]=2020-02-29&cd=&sa;=&sdn=&lat.=-33.4688961&lng.=-70.6882113&z.=10.55&lang=en-US\n",
      "https://movement.uber.com/explore/santiago/travel-times/query?si=164&ti=&ag=hexclusters&dt[tpb]=ALL_DAY&dt[wd;]=1,2,3,4,5,6,7&dt[dr][sd]=2020-03-01&dt[dr][ed]=2020-03-01&cd=&sa;=&sdn=&lat.=-33.4688961&lng.=-70.6882113&z.=10.55&lang=en-US\n",
      "https://movement.uber.com/explore/santiago/travel-times/query?si=164&ti=&ag=hexclusters&dt[tpb]=ALL_DAY&dt[wd;]=1,2,3,4,5,6,7&dt[dr][sd]=2020-03-02&dt[dr][ed]=2020-03-02&cd=&sa;=&sdn=&lat.=-33.4688961&lng.=-70.6882113&z.=10.55&lang=en-US\n",
      "https://movement.uber.com/explore/santiago/travel-times/query?si=164&ti=&ag=hexclusters&dt[tpb]=ALL_DAY&dt[wd;]=1,2,3,4,5,6,7&dt[dr][sd]=2020-03-03&dt[dr][ed]=2020-03-03&cd=&sa;=&sdn=&lat.=-33.4688961&lng.=-70.6882113&z.=10.55&lang=en-US\n",
      "https://movement.uber.com/explore/santiago/travel-times/query?si=164&ti=&ag=hexclusters&dt[tpb]=ALL_DAY&dt[wd;]=1,2,3,4,5,6,7&dt[dr][sd]=2020-03-04&dt[dr][ed]=2020-03-04&cd=&sa;=&sdn=&lat.=-33.4688961&lng.=-70.6882113&z.=10.55&lang=en-US\n",
      "https://movement.uber.com/explore/santiago/travel-times/query?si=164&ti=&ag=hexclusters&dt[tpb]=ALL_DAY&dt[wd;]=1,2,3,4,5,6,7&dt[dr][sd]=2020-03-05&dt[dr][ed]=2020-03-05&cd=&sa;=&sdn=&lat.=-33.4688961&lng.=-70.6882113&z.=10.55&lang=en-US\n",
      "https://movement.uber.com/explore/santiago/travel-times/query?si=164&ti=&ag=hexclusters&dt[tpb]=ALL_DAY&dt[wd;]=1,2,3,4,5,6,7&dt[dr][sd]=2020-03-06&dt[dr][ed]=2020-03-06&cd=&sa;=&sdn=&lat.=-33.4688961&lng.=-70.6882113&z.=10.55&lang=en-US\n",
      "https://movement.uber.com/explore/santiago/travel-times/query?si=164&ti=&ag=hexclusters&dt[tpb]=ALL_DAY&dt[wd;]=1,2,3,4,5,6,7&dt[dr][sd]=2020-03-07&dt[dr][ed]=2020-03-07&cd=&sa;=&sdn=&lat.=-33.4688961&lng.=-70.6882113&z.=10.55&lang=en-US\n",
      "https://movement.uber.com/explore/santiago/travel-times/query?si=164&ti=&ag=hexclusters&dt[tpb]=ALL_DAY&dt[wd;]=1,2,3,4,5,6,7&dt[dr][sd]=2020-03-08&dt[dr][ed]=2020-03-08&cd=&sa;=&sdn=&lat.=-33.4688961&lng.=-70.6882113&z.=10.55&lang=en-US\n",
      "https://movement.uber.com/explore/santiago/travel-times/query?si=164&ti=&ag=hexclusters&dt[tpb]=ALL_DAY&dt[wd;]=1,2,3,4,5,6,7&dt[dr][sd]=2020-03-09&dt[dr][ed]=2020-03-09&cd=&sa;=&sdn=&lat.=-33.4688961&lng.=-70.6882113&z.=10.55&lang=en-US\n",
      "https://movement.uber.com/explore/santiago/travel-times/query?si=164&ti=&ag=hexclusters&dt[tpb]=ALL_DAY&dt[wd;]=1,2,3,4,5,6,7&dt[dr][sd]=2020-03-10&dt[dr][ed]=2020-03-10&cd=&sa;=&sdn=&lat.=-33.4688961&lng.=-70.6882113&z.=10.55&lang=en-US\n",
      "https://movement.uber.com/explore/santiago/travel-times/query?si=164&ti=&ag=hexclusters&dt[tpb]=ALL_DAY&dt[wd;]=1,2,3,4,5,6,7&dt[dr][sd]=2020-03-11&dt[dr][ed]=2020-03-11&cd=&sa;=&sdn=&lat.=-33.4688961&lng.=-70.6882113&z.=10.55&lang=en-US\n",
      "https://movement.uber.com/explore/santiago/travel-times/query?si=164&ti=&ag=hexclusters&dt[tpb]=ALL_DAY&dt[wd;]=1,2,3,4,5,6,7&dt[dr][sd]=2020-03-12&dt[dr][ed]=2020-03-12&cd=&sa;=&sdn=&lat.=-33.4688961&lng.=-70.6882113&z.=10.55&lang=en-US\n",
      "https://movement.uber.com/explore/santiago/travel-times/query?si=164&ti=&ag=hexclusters&dt[tpb]=ALL_DAY&dt[wd;]=1,2,3,4,5,6,7&dt[dr][sd]=2020-03-13&dt[dr][ed]=2020-03-13&cd=&sa;=&sdn=&lat.=-33.4688961&lng.=-70.6882113&z.=10.55&lang=en-US\n",
      "https://movement.uber.com/explore/santiago/travel-times/query?si=164&ti=&ag=hexclusters&dt[tpb]=ALL_DAY&dt[wd;]=1,2,3,4,5,6,7&dt[dr][sd]=2020-03-14&dt[dr][ed]=2020-03-14&cd=&sa;=&sdn=&lat.=-33.4688961&lng.=-70.6882113&z.=10.55&lang=en-US\n",
      "https://movement.uber.com/explore/santiago/travel-times/query?si=164&ti=&ag=hexclusters&dt[tpb]=ALL_DAY&dt[wd;]=1,2,3,4,5,6,7&dt[dr][sd]=2020-03-15&dt[dr][ed]=2020-03-15&cd=&sa;=&sdn=&lat.=-33.4688961&lng.=-70.6882113&z.=10.55&lang=en-US\n",
      "https://movement.uber.com/explore/santiago/travel-times/query?si=164&ti=&ag=hexclusters&dt[tpb]=ALL_DAY&dt[wd;]=1,2,3,4,5,6,7&dt[dr][sd]=2020-03-16&dt[dr][ed]=2020-03-16&cd=&sa;=&sdn=&lat.=-33.4688961&lng.=-70.6882113&z.=10.55&lang=en-US\n",
      "https://movement.uber.com/explore/santiago/travel-times/query?si=164&ti=&ag=hexclusters&dt[tpb]=ALL_DAY&dt[wd;]=1,2,3,4,5,6,7&dt[dr][sd]=2020-03-17&dt[dr][ed]=2020-03-17&cd=&sa;=&sdn=&lat.=-33.4688961&lng.=-70.6882113&z.=10.55&lang=en-US\n",
      "https://movement.uber.com/explore/santiago/travel-times/query?si=164&ti=&ag=hexclusters&dt[tpb]=ALL_DAY&dt[wd;]=1,2,3,4,5,6,7&dt[dr][sd]=2020-03-18&dt[dr][ed]=2020-03-18&cd=&sa;=&sdn=&lat.=-33.4688961&lng.=-70.6882113&z.=10.55&lang=en-US\n",
      "https://movement.uber.com/explore/santiago/travel-times/query?si=164&ti=&ag=hexclusters&dt[tpb]=ALL_DAY&dt[wd;]=1,2,3,4,5,6,7&dt[dr][sd]=2020-03-19&dt[dr][ed]=2020-03-19&cd=&sa;=&sdn=&lat.=-33.4688961&lng.=-70.6882113&z.=10.55&lang=en-US\n",
      "https://movement.uber.com/explore/santiago/travel-times/query?si=164&ti=&ag=hexclusters&dt[tpb]=ALL_DAY&dt[wd;]=1,2,3,4,5,6,7&dt[dr][sd]=2020-03-20&dt[dr][ed]=2020-03-20&cd=&sa;=&sdn=&lat.=-33.4688961&lng.=-70.6882113&z.=10.55&lang=en-US\n",
      "https://movement.uber.com/explore/santiago/travel-times/query?si=164&ti=&ag=hexclusters&dt[tpb]=ALL_DAY&dt[wd;]=1,2,3,4,5,6,7&dt[dr][sd]=2020-03-21&dt[dr][ed]=2020-03-21&cd=&sa;=&sdn=&lat.=-33.4688961&lng.=-70.6882113&z.=10.55&lang=en-US\n",
      "https://movement.uber.com/explore/santiago/travel-times/query?si=164&ti=&ag=hexclusters&dt[tpb]=ALL_DAY&dt[wd;]=1,2,3,4,5,6,7&dt[dr][sd]=2020-03-22&dt[dr][ed]=2020-03-22&cd=&sa;=&sdn=&lat.=-33.4688961&lng.=-70.6882113&z.=10.55&lang=en-US\n",
      "https://movement.uber.com/explore/santiago/travel-times/query?si=164&ti=&ag=hexclusters&dt[tpb]=ALL_DAY&dt[wd;]=1,2,3,4,5,6,7&dt[dr][sd]=2020-03-23&dt[dr][ed]=2020-03-23&cd=&sa;=&sdn=&lat.=-33.4688961&lng.=-70.6882113&z.=10.55&lang=en-US\n",
      "https://movement.uber.com/explore/santiago/travel-times/query?si=164&ti=&ag=hexclusters&dt[tpb]=ALL_DAY&dt[wd;]=1,2,3,4,5,6,7&dt[dr][sd]=2020-03-24&dt[dr][ed]=2020-03-24&cd=&sa;=&sdn=&lat.=-33.4688961&lng.=-70.6882113&z.=10.55&lang=en-US\n",
      "https://movement.uber.com/explore/santiago/travel-times/query?si=164&ti=&ag=hexclusters&dt[tpb]=ALL_DAY&dt[wd;]=1,2,3,4,5,6,7&dt[dr][sd]=2020-03-25&dt[dr][ed]=2020-03-25&cd=&sa;=&sdn=&lat.=-33.4688961&lng.=-70.6882113&z.=10.55&lang=en-US\n",
      "https://movement.uber.com/explore/santiago/travel-times/query?si=164&ti=&ag=hexclusters&dt[tpb]=ALL_DAY&dt[wd;]=1,2,3,4,5,6,7&dt[dr][sd]=2020-03-26&dt[dr][ed]=2020-03-26&cd=&sa;=&sdn=&lat.=-33.4688961&lng.=-70.6882113&z.=10.55&lang=en-US\n",
      "https://movement.uber.com/explore/santiago/travel-times/query?si=164&ti=&ag=hexclusters&dt[tpb]=ALL_DAY&dt[wd;]=1,2,3,4,5,6,7&dt[dr][sd]=2020-03-27&dt[dr][ed]=2020-03-27&cd=&sa;=&sdn=&lat.=-33.4688961&lng.=-70.6882113&z.=10.55&lang=en-US\n",
      "https://movement.uber.com/explore/santiago/travel-times/query?si=164&ti=&ag=hexclusters&dt[tpb]=ALL_DAY&dt[wd;]=1,2,3,4,5,6,7&dt[dr][sd]=2020-03-28&dt[dr][ed]=2020-03-28&cd=&sa;=&sdn=&lat.=-33.4688961&lng.=-70.6882113&z.=10.55&lang=en-US\n",
      "https://movement.uber.com/explore/santiago/travel-times/query?si=164&ti=&ag=hexclusters&dt[tpb]=ALL_DAY&dt[wd;]=1,2,3,4,5,6,7&dt[dr][sd]=2020-03-29&dt[dr][ed]=2020-03-29&cd=&sa;=&sdn=&lat.=-33.4688961&lng.=-70.6882113&z.=10.55&lang=en-US\n",
      "https://movement.uber.com/explore/santiago/travel-times/query?si=164&ti=&ag=hexclusters&dt[tpb]=ALL_DAY&dt[wd;]=1,2,3,4,5,6,7&dt[dr][sd]=2020-03-30&dt[dr][ed]=2020-03-30&cd=&sa;=&sdn=&lat.=-33.4688961&lng.=-70.6882113&z.=10.55&lang=en-US\n",
      "https://movement.uber.com/explore/santiago/travel-times/query?si=164&ti=&ag=hexclusters&dt[tpb]=ALL_DAY&dt[wd;]=1,2,3,4,5,6,7&dt[dr][sd]=2020-03-31&dt[dr][ed]=2020-03-31&cd=&sa;=&sdn=&lat.=-33.4688961&lng.=-70.6882113&z.=10.55&lang=en-US\n"
     ]
    }
   ],
   "source": [
    "# Create URLs for the desired date range\n",
    "def getURL():\n",
    "    \"\"\"\"\n",
    "    Function that creates one URL per date between the specified date range\n",
    "    \"\"\"\n",
    "    date = datetime(2020,1,23)\n",
    "    while date <= datetime(2020,3,31):\n",
    "        yield ('https://movement.uber.com/explore/' + city + '/travel-times/query?si=' + origin_code + '&ti=&ag=' + zone_type + '&dt[tpb]=ALL_DAY&dt[wd;]=1,2,3,4,5,6,7&dt[dr][sd]=' +\n",
    "               date.strftime('%Y-%m-%d') + '&dt[dr][ed]=' + date.strftime('%Y-%m-%d') + '&cd=&sa;=&sdn=' + coordinates + '&lang=en-US')\n",
    "        date += timedelta(days=1)\n",
    "\n",
    "\n",
    "# Perform iteration through URLs downloading the datasets for each URL\n",
    "iterated_URLs = []\n",
    "i = 0\n",
    "print('Number of generated URLs: ' + str(len(list(getURL()))))\n",
    "for url in getURL():\n",
    "    i += 1\n",
    "    driver.execute_script(\"window.open('\"+url+\"', '_self')\")\n",
    "    iterated_URLs.append(url)\n",
    "    print(url)\n",
    "    \n",
    "    # zone_type_dropdown\n",
    "    # zoning_type\n",
    "    time.sleep(2)\n",
    "        \n",
    "    # Click on \"Download data\"\n",
    "    download_button = driver.find_element_by_css_selector('div.f5 button') # //button[contains(@data-baseweb, \"button\")]')\n",
    "    download_button.click()\n",
    "    time.sleep(3.5)\n",
    "    \n",
    "    # Download csv file\n",
    "    travel_times_download = WebDriverWait(driver, 20).until(\n",
    "        EC.presence_of_element_located((By.XPATH, '/html/body/div[1]/div[2]/div/div/div[3]/div/div[2]/div/div[1]/div/button[1]')))\n",
    "    # travel_times_download = driver.find_element_by_xpath('/html/body/div[1]/div[2]/div/div/div[3]/div/div[2]/div/div[1]/div/button[1]')\n",
    "    travel_times_download.click()\n",
    "    time.sleep(2)"
   ]
  },
  {
   "cell_type": "code",
   "execution_count": null,
   "metadata": {},
   "outputs": [],
   "source": []
  },
  {
   "cell_type": "code",
   "execution_count": null,
   "metadata": {},
   "outputs": [],
   "source": []
  }
 ],
 "metadata": {
  "kernelspec": {
   "display_name": "Python 3",
   "language": "python",
   "name": "python3"
  },
  "language_info": {
   "codemirror_mode": {
    "name": "ipython",
    "version": 3
   },
   "file_extension": ".py",
   "mimetype": "text/x-python",
   "name": "python",
   "nbconvert_exporter": "python",
   "pygments_lexer": "ipython3",
   "version": "3.8.5"
  }
 },
 "nbformat": 4,
 "nbformat_minor": 2
}
