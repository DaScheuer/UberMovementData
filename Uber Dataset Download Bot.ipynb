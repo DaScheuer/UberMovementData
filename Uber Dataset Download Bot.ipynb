{
 "cells": [
  {
   "cell_type": "code",
   "execution_count": 1,
   "metadata": {},
   "outputs": [],
   "source": [
    "from selenium import webdriver\n",
    "from selenium.webdriver.common.keys import Keys\n",
    "from selenium.webdriver.common.by import By\n",
    "from selenium.webdriver.support.ui import WebDriverWait\n",
    "from selenium.webdriver.support import expected_conditions as EC\n",
    "import time"
   ]
  },
  {
   "cell_type": "code",
   "execution_count": 43,
   "metadata": {},
   "outputs": [],
   "source": [
    "# Load Chrome driver and movement.uber.com/cities website\n",
    "PATH = 'C:\\Program Files (x86)\\chromedriver.exe'\n",
    "driver = webdriver.Chrome(PATH)\n",
    "driver.get('https://movement.uber.com/?lang=en-US')"
   ]
  },
  {
   "cell_type": "code",
   "execution_count": 44,
   "metadata": {},
   "outputs": [],
   "source": [
    "# Note: could make a list with all desred cities and for city in list, start with search and go back to main page\n",
    "\n",
    "# Agree to privacy preferences\n",
    "priv_pref_buton = driver.find_element_by_id('privacy_pref_optin')\n",
    "priv_pref_buton.click()\n",
    "\n",
    "# Insert city and select travel times\n",
    "search = driver.find_element_by_xpath('/html/body/div[1]/div[1]/div[2]/div[4]/div[2]/div[1]/div/input')\n",
    "search.send_keys('Atlanta') # The string inside the .sendkeys function can be set to the desired city and the code below works\n",
    "\n",
    "time.sleep(1)\n",
    "city = driver.find_element_by_xpath('/html/body/div[1]/div[1]/div[2]/div[2]/div/div/div[2]')\n",
    "city.click()\n",
    "\n",
    "time.sleep(1)\n",
    "city_travel_times_link = driver.find_element_by_xpath('//a[@class=\"b9 f8 gh c3 qr cg qs qt qu qv qw qx\"]') #/html/body/div[1]/div[1]/div[2]/div[2]/div/div[1]/a/div[2]/div[1]')))\n",
    "city_travel_times_link.click()\n",
    "        \n",
    "try: # Skip button only shows up the first time you open the Chrome browser\n",
    "    time.sleep(15)\n",
    "    skip_button = driver.find_element_by_xpath('/html/body/div[1]/div[2]/div/div/div[3]/div/div[2]/div/div[2]/div/div[1]/button')\n",
    "    skip_button.click()\n",
    "        \n",
    "except:\n",
    "    pass\n",
    "\n",
    "                                    \n",
    "# Choosing correct data parameters (Traffix Analysis Zone) and opening date bar in preparation for the calendar loop\n",
    "try: # Zone type dropdown only shows up the first time you open the Chrome browser\n",
    "    zone_type_dropdown = WebDriverWait(driver, 10).until(\n",
    "        EC.presence_of_element_located((By.XPATH, '/html/body/div[1]/div[1]/div[1]/div[3]/div/div[2]/div/div/div/div/div[1]/div[2]/div')))\n",
    "    zone_type_dropdown.click()\n",
    "\n",
    "    traffic_analysis_zones = WebDriverWait(driver, 10).until(\n",
    "        EC.presence_of_element_located((By.XPATH, '/html/body/div[1]/div[2]/div/div/div/div/div/ul/li[2]')))\n",
    "    traffic_analysis_zones.click()\n",
    "        \n",
    "except:\n",
    "    pass\n",
    "\n",
    "time.sleep(3)\n",
    "date_selector_bar = driver.find_element_by_xpath('/html/body/div[1]/div[1]/div[1]/div[3]/div/div[2]/div/div/div/div/div[2]/div[2]/div/div/div[1]')\n",
    "date_selector_bar.click()\n",
    "\n",
    "time.sleep(2)\n",
    "change_date_bar = driver.find_element_by_xpath('/html/body/div[1]/div[1]/div[1]/div[2]/div[3]/div[1]/div[1]/div/div/div/div/input')\n",
    "change_date_bar.click()\n",
    "\n",
    "# Calendar loop (should be indented correctly into previous code block)\n",
    "arrow_left_month = driver.find_element_by_xpath('/html/body/div[1]/div[2]/div/div/div/div/div/div/div[1]/div[1]/button[1]')\n",
    "for i in range(50): # 50 because default starting position in the calendar is March 2020. With 50 we go to January 16.\n",
    "    arrow_left_month.click()\n",
    "    \n",
    "# (Temporary) Go back to main page\n",
    "# driver.back()"
   ]
  },
  {
   "cell_type": "code",
   "execution_count": 45,
   "metadata": {},
   "outputs": [
    {
     "name": "stdout",
     "output_type": "stream",
     "text": [
      "Number of days: 59\n",
      "2\n",
      "3\n",
      "4\n",
      "5\n",
      "6\n",
      "7\n",
      "8\n",
      "9\n",
      "10\n",
      "11\n",
      "12\n",
      "13\n",
      "14\n",
      "15\n",
      "16\n",
      "17\n",
      "18\n",
      "19\n",
      "20\n",
      "21\n",
      "22\n",
      "23\n",
      "24\n",
      "25\n",
      "26\n",
      "27\n",
      "28\n",
      "29\n",
      "30\n",
      "31\n",
      "1\n",
      "2\n",
      "3\n",
      "4\n",
      "5\n",
      "6\n",
      "7\n",
      "8\n",
      "9\n",
      "10\n",
      "11\n",
      "12\n",
      "13\n",
      "14\n",
      "15\n",
      "16\n",
      "17\n",
      "18\n",
      "19\n",
      "20\n",
      "21\n",
      "22\n",
      "23\n",
      "24\n",
      "25\n",
      "26\n",
      "27\n",
      "28\n",
      "29\n"
     ]
    }
   ],
   "source": [
    "# DAY LOOP\n",
    "\n",
    "# Read monthly tables and each day\n",
    "jan_table = driver.find_element_by_xpath('//div[contains(@class, \"gk k5 is dt\")]')\n",
    "days = jan_table.find_elements_by_xpath('//div[@class=\"g3 bm b9 g2 jm kj ki ah lv va vb jb jc ay ax az b0 du vt wh wj wk wl my wm wn wo wp wq wr ws wt wu wv ww wx wy wz x0 x1 vu vw vx x4 vz w0 sx w1 w2 w3 w4 w5 w6 w7 w8 w9 wa wb wc wd we wf wg  \"]')\n",
    "print('Number of days: ' + str(len(days))) # The number of days is the numbr of unselected days in teh calendar\n",
    "\n",
    "# Start iterating through the days in the month\n",
    "for day in range(len(days)):\n",
    "    start_day = days[day] # .find_element_by_xpath('//div[contains(@data-state-code, \"\") and contains(@aria-label,\"January\")]')\n",
    "    print(start_day.text)\n",
    "    start_day.click()\n",
    "\n",
    "    # Since the code above prints out all days, while we are currently in the desire day, click on that day\n",
    "    while len(days) <= 2:\n",
    "        print(\"Working\")\n",
    "        # start_day.click()\n",
    "        break"
   ]
  },
  {
   "cell_type": "code",
   "execution_count": 76,
   "metadata": {},
   "outputs": [
    {
     "name": "stdout",
     "output_type": "stream",
     "text": [
      "Number of days: 58\n"
     ]
    },
    {
     "ename": "TypeError",
     "evalue": "'int' object is not iterable",
     "output_type": "error",
     "traceback": [
      "\u001b[1;31m---------------------------------------------------------------------------\u001b[0m",
      "\u001b[1;31mTypeError\u001b[0m                                 Traceback (most recent call last)",
      "\u001b[1;32m<ipython-input-76-6cb7b7799b55>\u001b[0m in \u001b[0;36m<module>\u001b[1;34m\u001b[0m\n\u001b[0;32m      8\u001b[0m     \u001b[0mstart_date\u001b[0m \u001b[1;33m=\u001b[0m \u001b[0mdays\u001b[0m\u001b[1;33m[\u001b[0m\u001b[0mday\u001b[0m\u001b[1;33m]\u001b[0m \u001b[1;31m#find_element_by_xpath('//div[contains(@data-state-code, \"\") and contains(@aria-label,\"January\")]')\u001b[0m\u001b[1;33m\u001b[0m\u001b[1;33m\u001b[0m\u001b[0m\n\u001b[0;32m      9\u001b[0m     \u001b[0mstart_date\u001b[0m\u001b[1;33m.\u001b[0m\u001b[0mclick\u001b[0m\u001b[1;33m(\u001b[0m\u001b[1;33m)\u001b[0m\u001b[1;33m\u001b[0m\u001b[1;33m\u001b[0m\u001b[0m\n\u001b[1;32m---> 10\u001b[1;33m     \u001b[0mdays\u001b[0m \u001b[1;33m+=\u001b[0m \u001b[1;36m1\u001b[0m\u001b[1;33m\u001b[0m\u001b[1;33m\u001b[0m\u001b[0m\n\u001b[0m\u001b[0;32m     11\u001b[0m \u001b[1;33m\u001b[0m\u001b[0m\n\u001b[0;32m     12\u001b[0m     \u001b[0mend_date\u001b[0m \u001b[1;33m=\u001b[0m \u001b[0mdays\u001b[0m\u001b[1;33m[\u001b[0m\u001b[0mday\u001b[0m\u001b[1;33m]\u001b[0m\u001b[1;33m\u001b[0m\u001b[1;33m\u001b[0m\u001b[0m\n",
      "\u001b[1;31mTypeError\u001b[0m: 'int' object is not iterable"
     ]
    }
   ],
   "source": [
    "# Testing with start_date and end_date\n",
    "jan_table = driver.find_element_by_xpath('//div[contains(@class, \"gk k5 is dt\")]')\n",
    "days = jan_table.find_elements_by_xpath('//div[@class=\"g3 bm b9 g2 jm kj ki ah lv va vb jb jc ay ax az b0 du vt wh wj wk wl my wm wn wo wp wq wr ws wt wu wv ww wx wy wz x0 x1 vu vw vx x4 vz w0 sx w1 w2 w3 w4 w5 w6 w7 w8 w9 wa wb wc wd we wf wg  \"]')\n",
    "print('Number of days: ' + str(len(days)))\n",
    "\n",
    "lenght_days = range(len(days))\n",
    "for day in lenght_days:\n",
    "    start_date = days[day] #find_element_by_xpath('//div[contains(@data-state-code, \"\") and contains(@aria-label,\"January\")]')\n",
    "    start_date.click()\n",
    "    days += 1\n",
    "    \n",
    "    end_date = days[day]\n",
    "    end_date.click()"
   ]
  },
  {
   "cell_type": "code",
   "execution_count": null,
   "metadata": {},
   "outputs": [],
   "source": [
    "# Experimental day loop\n"
   ]
  },
  {
   "cell_type": "code",
   "execution_count": null,
   "metadata": {},
   "outputs": [],
   "source": [
    "# # Suggested city loop from stackoverflow\n",
    "# managed_cities = []\n",
    "# while True:\n",
    "#     cities_table = driver.find_element_by_xpath('/html/body/div[1]/div[1]/div[1]/div[2]/div[1]/div')\n",
    "#     cities = cities_table.find_elements_by_tag_name('div')\n",
    "#     for city in cities:\n",
    "#         # Here you have to find and ID or some unique text that identifies the\n",
    "#         # already processed city in order to skip it\n",
    "#         if city.text in managed_cities:\n",
    "#             continue\n",
    "\n",
    "#         city = city.find_element_by_tag_name('a') # Buttons have tags \"a\"\n",
    "#         city.click()\n",
    "#         time.sleep(3)\n",
    "#         driver.back()\n",
    "#         break\n",
    "\n",
    "#     # Now, if you have managed all the cities, you can exit from the while\n",
    "#     # otherwise, keep loop until all cities have been processed\n",
    "#     if len(managed_cities) == len(cities):\n",
    "#         break"
   ]
  },
  {
   "cell_type": "code",
   "execution_count": 40,
   "metadata": {},
   "outputs": [
    {
     "name": "stdout",
     "output_type": "stream",
     "text": [
      "[['data-state-code', '110010000000001'], ['class', 'g3 bm vr ra jm kj ki ah lv va vb jb jc ay ax az b0 du vt    ']]\n",
      "[['data-state-code', '110010000000001'], ['class', 'g3 bm vr ra jm kj ki ah lv va vb jb jc ay ax az b0 du vt    ']]\n",
      "[['data-state-code', '110010000000001'], ['class', 'g3 bm vr ra jm kj ki ah lv va vb jb jc ay ax az b0 du vt    ']]\n",
      "[['data-state-code', '110010000000001'], ['class', 'g3 bm vr ra jm kj ki ah lv va vb jb jc ay ax az b0 du vt    ']]\n",
      "[['data-state-code', '110010000000001'], ['class', 'g3 bm vr ra jm kj ki ah lv va vb jb jc ay ax az b0 du vt    ']]\n",
      "[['data-state-code', '110010000000001'], ['class', 'g3 bm vr ra jm kj ki ah lv va vb jb jc ay ax az b0 du vt    ']]\n",
      "[['data-state-code', '110010000000001'], ['class', 'g3 bm vr ra jm kj ki ah lv va vb jb jc ay ax az b0 du vt    ']]\n",
      "[['data-state-code', '110010000000001'], ['class', 'g3 bm vr ra jm kj ki ah lv va vb jb jc ay ax az b0 du vt    ']]\n",
      "[['data-state-code', '110010000000001'], ['class', 'g3 bm vr ra jm kj ki ah lv va vb jb jc ay ax az b0 du vt    ']]\n",
      "[['data-state-code', '110010000000001'], ['class', 'g3 bm vr ra jm kj ki ah lv va vb jb jc ay ax az b0 du vt    ']]\n",
      "[['data-state-code', '110010000000001'], ['class', 'g3 bm vr ra jm kj ki ah lv va vb jb jc ay ax az b0 du vt    ']]\n"
     ]
    }
   ],
   "source": [
    "# Getting all attributes for a given Webelement and storing them in a list\n",
    "jan_table = driver.find_element_by_xpath('/html/body/div[1]/div[2]/div/div/div/div/div/div/div[1]/div[3]/div') #//div[@role=\"rowgroup\"]')\n",
    "weeks = jan_table.find_elements_by_xpath('//div[@class=\"jk ai v1\"]')\n",
    "for week in weeks:\n",
    "    day = week.find_element_by_xpath('//div[contains(@data-state-code, \"1\")]')\n",
    "    attrs=[]\n",
    "    for attr in day.get_property('attributes'):\n",
    "        attrs.append([attr['name'], attr['value']])\n",
    "    print(attrs)\n",
    "    \n",
    "# What I discovered with this is that I might have been searching for the wrong class name all along.\n",
    "# I need to include the spaces at the end of the string."
   ]
  }
 ],
 "metadata": {
  "kernelspec": {
   "display_name": "Python 3",
   "language": "python",
   "name": "python3"
  },
  "language_info": {
   "codemirror_mode": {
    "name": "ipython",
    "version": 3
   },
   "file_extension": ".py",
   "mimetype": "text/x-python",
   "name": "python",
   "nbconvert_exporter": "python",
   "pygments_lexer": "ipython3",
   "version": "3.8.5"
  }
 },
 "nbformat": 4,
 "nbformat_minor": 2
}
