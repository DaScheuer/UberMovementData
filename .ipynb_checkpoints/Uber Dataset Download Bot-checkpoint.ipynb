{
 "cells": [
  {
   "cell_type": "code",
   "execution_count": 1,
   "metadata": {},
   "outputs": [],
   "source": [
    "from selenium import webdriver\n",
    "from selenium.webdriver.common.keys import Keys\n",
    "from selenium.webdriver.common.by import By\n",
    "from selenium.webdriver.support.ui import WebDriverWait\n",
    "from selenium.webdriver.support import expected_conditions as EC\n",
    "import time"
   ]
  },
  {
   "cell_type": "code",
   "execution_count": 2,
   "metadata": {},
   "outputs": [],
   "source": [
    "# Load Chrome driver and movement.uber.com/cities website\n",
    "PATH = 'C:\\Program Files (x86)\\chromedriver.exe'\n",
    "driver = webdriver.Chrome(PATH)\n",
    "driver.get('https://movement.uber.com/?lang=en-US')"
   ]
  },
  {
   "cell_type": "code",
   "execution_count": null,
   "metadata": {},
   "outputs": [],
   "source": [
    "# Note: could make a list with all desred cities and for city in list, start with search and go back to main page\n",
    "\n",
    "# Agree to privacy preferences\n",
    "priv_pref_buton = driver.find_element_by_id('privacy_pref_optin')\n",
    "priv_pref_buton.click()\n",
    "\n",
    "# Insert city and select travel times\n",
    "search = driver.find_element_by_xpath('/html/body/div[1]/div[1]/div[2]/div[4]/div[2]/div[1]/div/input')\n",
    "search.send_keys('Atlanta') # The string inside the .sendkeys function can be set to the desired city and the code below works\n",
    "\n",
    "time.sleep(1)\n",
    "city = driver.find_element_by_xpath('/html/body/div[1]/div[1]/div[2]/div[2]/div/div/div[2]')\n",
    "city.click()\n",
    "\n",
    "time.sleep(1)\n",
    "city_travel_times_link = driver.find_element_by_xpath('//a[@class=\"b9 f8 gh c3 qr cg qs qt qu qv qw qx\"]') #/html/body/div[1]/div[1]/div[2]/div[2]/div/div[1]/a/div[2]/div[1]')))\n",
    "city_travel_times_link.click()\n",
    "        \n",
    "try: # Skip button only shows up the first time you open the Chrome browser\n",
    "    time.sleep(15)\n",
    "    skip_button = driver.find_element_by_xpath('/html/body/div[1]/div[2]/div/div/div[3]/div/div[2]/div/div[2]/div/div[1]/button')\n",
    "    skip_button.click()\n",
    "        \n",
    "except:\n",
    "    pass\n",
    "\n",
    "                                    \n",
    "# Choosing correct data parameters (Traffix Analysis Zone) and opening date bar in preparation for the calendar loop\n",
    "try: # Zone type dropdown only shows up the first time you open the Chrome browser\n",
    "    zone_type_dropdown = WebDriverWait(driver, 10).until(\n",
    "        EC.presence_of_element_located((By.XPATH, '/html/body/div[1]/div[1]/div[1]/div[3]/div/div[2]/div/div/div/div/div[1]/div[2]/div')))\n",
    "    zone_type_dropdown.click()\n",
    "\n",
    "    traffic_analysis_zones = WebDriverWait(driver, 10).until(\n",
    "        EC.presence_of_element_located((By.XPATH, '/html/body/div[1]/div[2]/div/div/div/div/div/ul/li[2]')))\n",
    "    traffic_analysis_zones.click()\n",
    "        \n",
    "except:\n",
    "    pass\n",
    "\n",
    "time.sleep(3)\n",
    "date_selector_bar = driver.find_element_by_xpath('/html/body/div[1]/div[1]/div[1]/div[3]/div/div[2]/div/div/div/div/div[2]/div[2]/div/div/div[1]')\n",
    "date_selector_bar.click()\n",
    "\n",
    "time.sleep(2)\n",
    "change_date_bar = driver.find_element_by_xpath('/html/body/div[1]/div[1]/div[1]/div[2]/div[3]/div[1]/div[1]/div/div/div/div/input')\n",
    "change_date_bar.click()\n",
    "\n",
    "# Calendar loop (should be indented correctly into previous code block)\n",
    "arrow_left_month = driver.find_element_by_xpath('/html/body/div[1]/div[2]/div/div/div/div/div/div/div[1]/div[1]/button[1]')\n",
    "for i in range(50): # 50 because default starting position in the calendar is March 2020. With 50 we go to January 16.\n",
    "    arrow_left_month.click()\n",
    "    \n",
    "# (Temporary) Go back to main page\n",
    "# driver.back()"
   ]
  },
  {
   "cell_type": "code",
   "execution_count": null,
   "metadata": {},
   "outputs": [],
   "source": [
    "# DAY LOOP\n",
    "\n",
    "# Read monthly tables and each day\n",
    "jan_table = driver.find_element_by_xpath('//div[contains(@class, \"gk k5 is dt\")]')\n",
    "days = jan_table.find_elements_by_xpath('//div[@class=\"g3 bm b9 g2 jm kj ki ah lv va vb jb jc ay ax az b0 du vt wh wj wk wl my wm wn wo wp wq wr ws wt wu wv ww wx wy wz x0 x1 vu vw vx x4 vz w0 sx w1 w2 w3 w4 w5 w6 w7 w8 w9 wa wb wc wd we wf wg  \"]')\n",
    "print('Number of days: ' + str(len(days))) # The number of days is the numbr of unselected days in teh calendar\n",
    "\n",
    "# Start iterating through the days in the month\n",
    "for day in range(len(days)):\n",
    "    start_day = days[day] # .find_element_by_xpath('//div[contains(@data-state-code, \"\") and contains(@aria-label,\"January\")]')\n",
    "    print(start_day.text)\n",
    "    start_day.click()\n",
    "\n",
    "    # Since the code above prints out all days, while we are currently in the desire day, click on that day\n",
    "    while len(days) <= 2:\n",
    "        print(\"Working\")\n",
    "        # start_day.click()\n",
    "        break"
   ]
  },
  {
   "cell_type": "code",
   "execution_count": 20,
   "metadata": {},
   "outputs": [
    {
     "name": "stdout",
     "output_type": "stream",
     "text": [
      "[1, 2, 3, 4, 5, 6, 7, 8, 9, 10, 11, 12, 13, 14, 15, 16, 17, 18, 19, 20, 21, 22, 23, 24, 25, 26, 27, 28, 29, 30, 31]\n"
     ]
    }
   ],
   "source": [
    "# Experimental day loop with changing URL\n",
    "# Pseudo-code:\n",
    "# Repeat:\n",
    "# Open Atlanta link with first date\n",
    "# Do code (extract csv file)\n",
    "# Open new tab\n",
    "# Set URL to next day\n",
    "# Close previous tab\n",
    "# Extract csv\n",
    "# Open new tab\n",
    "\n",
    "# Setting range of years, months and days to be iterated through in the URL later\n",
    "YYYY = []\n",
    "years = range(2016, 2021)\n",
    "for yyyy in years:\n",
    "    YYYY.append(yyyy)\n",
    "\n",
    "MM = []\n",
    "months = range(1, 13)\n",
    "for mm in months:\n",
    "    MM.append(mm)\n",
    "\n",
    "DD = []\n",
    "days = range (1, 32)\n",
    "for dd in days:\n",
    "    DD.append(dd)\n",
    "\n",
    "\n",
    "\n",
    "# driver.get(\"https://movement.uber.com/explore/atlanta/travel-times/query?si=1074&ti=&ag=taz&dt[tpb]=ALL_DAY&dt[wd;]=1,2,3,4,5,6,7&dt[dr][sd]=2016-01-02&dt[dr][ed]=2016-01-19&cd=&sa;=&sdn=&lang=en-US\")"
   ]
  },
  {
   "cell_type": "code",
   "execution_count": null,
   "metadata": {},
   "outputs": [],
   "source": [
    "# # Suggested city loop from stackoverflow\n",
    "# managed_cities = []\n",
    "# while True:\n",
    "#     cities_table = driver.find_element_by_xpath('/html/body/div[1]/div[1]/div[1]/div[2]/div[1]/div')\n",
    "#     cities = cities_table.find_elements_by_tag_name('div')\n",
    "#     for city in cities:\n",
    "#         # Here you have to find and ID or some unique text that identifies the\n",
    "#         # already processed city in order to skip it\n",
    "#         if city.text in managed_cities:\n",
    "#             continue\n",
    "\n",
    "#         city = city.find_element_by_tag_name('a') # Buttons have tags \"a\"\n",
    "#         city.click()\n",
    "#         time.sleep(3)\n",
    "#         driver.back()\n",
    "#         break\n",
    "\n",
    "#     # Now, if you have managed all the cities, you can exit from the while\n",
    "#     # otherwise, keep loop until all cities have been processed\n",
    "#     if len(managed_cities) == len(cities):\n",
    "#         break"
   ]
  },
  {
   "cell_type": "code",
   "execution_count": null,
   "metadata": {},
   "outputs": [],
   "source": [
    "# Getting all attributes for a given Webelement and storing them in a list\n",
    "jan_table = driver.find_element_by_xpath('/html/body/div[1]/div[2]/div/div/div/div/div/div/div[1]/div[3]/div') #//div[@role=\"rowgroup\"]')\n",
    "weeks = jan_table.find_elements_by_xpath('//div[@class=\"jk ai v1\"]')\n",
    "for week in weeks:\n",
    "    day = week.find_element_by_xpath('//div[contains(@data-state-code, \"1\")]')\n",
    "    attrs=[]\n",
    "    for attr in day.get_property('attributes'):\n",
    "        attrs.append([attr['name'], attr['value']])\n",
    "    print(attrs)\n",
    "    \n",
    "# What I discovered with this is that I might have been searching for the wrong class name all along.\n",
    "# I need to include the spaces at the end of the string."
   ]
  }
 ],
 "metadata": {
  "kernelspec": {
   "display_name": "Python 3",
   "language": "python",
   "name": "python3"
  },
  "language_info": {
   "codemirror_mode": {
    "name": "ipython",
    "version": 3
   },
   "file_extension": ".py",
   "mimetype": "text/x-python",
   "name": "python",
   "nbconvert_exporter": "python",
   "pygments_lexer": "ipython3",
   "version": "3.8.5"
  }
 },
 "nbformat": 4,
 "nbformat_minor": 2
}
