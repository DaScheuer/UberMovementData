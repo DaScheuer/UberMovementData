{
 "cells": [
  {
   "cell_type": "code",
   "execution_count": 1,
   "metadata": {},
   "outputs": [
    {
     "ename": "ModuleNotFoundError",
     "evalue": "No module named 'gdal'",
     "output_type": "error",
     "traceback": [
      "\u001b[1;31m---------------------------------------------------------------------------\u001b[0m",
      "\u001b[1;31mModuleNotFoundError\u001b[0m                       Traceback (most recent call last)",
      "\u001b[1;32m<ipython-input-1-acfd189b7915>\u001b[0m in \u001b[0;36m<module>\u001b[1;34m\u001b[0m\n\u001b[0;32m      1\u001b[0m \u001b[1;32mimport\u001b[0m \u001b[0mpandas\u001b[0m \u001b[1;32mas\u001b[0m \u001b[0mpd\u001b[0m\u001b[1;33m\u001b[0m\u001b[1;33m\u001b[0m\u001b[0m\n\u001b[1;32m----> 2\u001b[1;33m \u001b[1;32mimport\u001b[0m \u001b[0mgdal\u001b[0m\u001b[1;33m\u001b[0m\u001b[1;33m\u001b[0m\u001b[0m\n\u001b[0m\u001b[0;32m      3\u001b[0m \u001b[1;32mimport\u001b[0m \u001b[0mgeopandas\u001b[0m\u001b[1;33m\u001b[0m\u001b[1;33m\u001b[0m\u001b[0m\n\u001b[0;32m      4\u001b[0m \u001b[1;33m\u001b[0m\u001b[0m\n\u001b[0;32m      5\u001b[0m \u001b[0mjson\u001b[0m \u001b[1;33m=\u001b[0m \u001b[0mpd\u001b[0m\u001b[1;33m.\u001b[0m\u001b[0mread_json\u001b[0m\u001b[1;33m(\u001b[0m\u001b[1;34m'johannesburg_gpzones.json'\u001b[0m\u001b[1;33m)\u001b[0m\u001b[1;33m\u001b[0m\u001b[1;33m\u001b[0m\u001b[0m\n",
      "\u001b[1;31mModuleNotFoundError\u001b[0m: No module named 'gdal'"
     ]
    }
   ],
   "source": [
    "import pandas as pd\n",
    "import gdal\n",
    "import geopandas\n",
    "\n",
    "json = pd.read_json('johannesburg_gpzones.json')\n",
    "json"
   ]
  },
  {
   "cell_type": "code",
   "execution_count": 11,
   "metadata": {},
   "outputs": [
    {
     "data": {
      "text/plain": [
       "{'type': 'Feature',\n",
       " 'geometry': {'type': 'MultiPolygon',\n",
       "  'coordinates': [[[[28.052928, -26.225598],\n",
       "     [28.053558, -26.227283],\n",
       "     [28.053287, -26.228831],\n",
       "     [28.052892, -26.231141],\n",
       "     [28.052799, -26.233067],\n",
       "     [28.053032, -26.237817],\n",
       "     [28.050362, -26.23647],\n",
       "     [28.045598, -26.235418],\n",
       "     [28.041336, -26.234594],\n",
       "     [28.039085, -26.238549],\n",
       "     [28.034193, -26.237603],\n",
       "     [28.032097, -26.237197],\n",
       "     [28.030121, -26.236764],\n",
       "     [28.030175, -26.236475],\n",
       "     [28.029634, -26.236324],\n",
       "     [28.029275, -26.235891],\n",
       "     [28.02774, -26.236301],\n",
       "     [28.025801, -26.236985],\n",
       "     [28.024516, -26.237431],\n",
       "     [28.023591, -26.238209],\n",
       "     [28.021196, -26.238939],\n",
       "     [28.021239, -26.235695],\n",
       "     [28.021249, -26.23492],\n",
       "     [28.021082, -26.233703],\n",
       "     [28.019942, -26.234957],\n",
       "     [28.018654, -26.236371],\n",
       "     [28.016972, -26.238871],\n",
       "     [28.015946, -26.238336],\n",
       "     [28.016335, -26.237996],\n",
       "     [28.018223, -26.234779],\n",
       "     [28.018785, -26.233323],\n",
       "     [28.019282, -26.230464],\n",
       "     [28.019485, -26.226624],\n",
       "     [28.019622, -26.224638],\n",
       "     [28.019728, -26.22225],\n",
       "     [28.02012, -26.221828],\n",
       "     [28.022521, -26.220983],\n",
       "     [28.024618, -26.220551],\n",
       "     [28.026975, -26.220538],\n",
       "     [28.028094, -26.220496],\n",
       "     [28.03011, -26.221011],\n",
       "     [28.031631, -26.221488],\n",
       "     [28.03341, -26.22218],\n",
       "     [28.035912, -26.22309],\n",
       "     [28.036784, -26.223467],\n",
       "     [28.038342, -26.224493],\n",
       "     [28.039515, -26.225098],\n",
       "     [28.042055, -26.226165],\n",
       "     [28.044108, -26.22683],\n",
       "     [28.045038, -26.226965],\n",
       "     [28.046788, -26.226872],\n",
       "     [28.050023, -26.226155],\n",
       "     [28.052928, -26.225598]]]]},\n",
       " 'properties': {'MOVEMENT_ID': '934',\n",
       "  'DISPLAY_NAME': '0 Short Street, Booysens, Johannesburg'}}"
      ]
     },
     "execution_count": 11,
     "metadata": {},
     "output_type": "execute_result"
    }
   ],
   "source": [
    "geopandas."
   ]
  }
 ],
 "metadata": {
  "kernelspec": {
   "display_name": "Python 3",
   "language": "python",
   "name": "python3"
  },
  "language_info": {
   "codemirror_mode": {
    "name": "ipython",
    "version": 3
   },
   "file_extension": ".py",
   "mimetype": "text/x-python",
   "name": "python",
   "nbconvert_exporter": "python",
   "pygments_lexer": "ipython3",
   "version": "3.8.5"
  }
 },
 "nbformat": 4,
 "nbformat_minor": 4
}
